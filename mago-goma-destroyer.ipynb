{
 "cells": [
  {
   "cell_type": "markdown",
   "metadata": {},
   "source": [
    "#### Para vencer al Mago Goma (juego de Radio Metro)"
   ]
  },
  {
   "cell_type": "code",
   "execution_count": 12,
   "metadata": {},
   "outputs": [],
   "source": [
    "import pyphen\n",
    "import numpy as np"
   ]
  },
  {
   "cell_type": "code",
   "execution_count": 2,
   "metadata": {},
   "outputs": [],
   "source": [
    "dic = pyphen.Pyphen(lang='es')"
   ]
  },
  {
   "cell_type": "code",
   "execution_count": 11,
   "metadata": {},
   "outputs": [],
   "source": [
    "class Monosilaba(Exception):\n",
    "    \"\"\"Excepcion lanzada cuando la palabra es monosilaba\"\"\"\n",
    "    pass\n",
    "\n",
    "def es_valida(dic, palabra, ultima_silaba):\n",
    "    \"\"\"Valida si la ultima silaba de una palabra es la primera silaba de otra palabra\"\"\"\n",
    "    f, l = separar_en_silabas(dic, palabra)\n",
    "    return f == ultima_silaba\n",
    "    \n",
    "def quitar_acentos(silabas):\n",
    "    \"\"\"Reemplaza los acentos en las vocales de las silabas por su equivalentes sin acentos\"\"\"\n",
    "    reemplazo = {\n",
    "        'á': 'a',\n",
    "        'é': 'e',\n",
    "        'í': 'i',\n",
    "        'ó': 'o',\n",
    "        'ú': 'u',\n",
    "    }\n",
    "\n",
    "    for k, v in reemplazo.items():\n",
    "        silabas = silabas.replace(k, v)\n",
    "    return silabas\n",
    "    \n",
    "\n",
    "def separar_en_silabas(dic, palabra):\n",
    "    \"\"\"Separa una palabra en silabas y devuelve la primera y ultima silibas de la misma o \n",
    "    lanza la excepción Monosilaba si la palabra no se puede seguir dividiendo\"\"\"\n",
    "    if not es_monosilaba(dic, palabra):\n",
    "        silabas = quitar_acentos(dic.inserted(palabra))\n",
    "        first = silabas.split('-')[0]\n",
    "        last = silabas.split('-')[-1]\n",
    "        return first, last\n",
    "    else:\n",
    "        raise Monosilaba\n",
    "\n",
    "def es_monosilaba(dic, palabra):\n",
    "    \"\"\"Devuelve True si la palabra es monosilaba y False sino\"\"\"\n",
    "    return not '-' in dic.inserted(palabra) \n",
    "\n",
    "def agrupar_palabras_por_primera_silaba(palabras):\n",
    "    \"\"\"Crea un diccionario donde las claves son las primeras silabas de las palabras y \n",
    "    los valores son las listas de palabras que comienzan con esa silaba\"\"\"\n",
    "    #agrupar palabras por la primera silaba para agilizar busqueda\n",
    "    dic_silabas = {}\n",
    "    for w in es_words:\n",
    "        if not es_monosilaba(dic, w):\n",
    "            first, _ = separar_en_silabas(dic, w)\n",
    "            if not first in dic_silabas.keys():\n",
    "                dic_silabas.update({first: [w]})\n",
    "            else:\n",
    "                dic_silabas[first].append(w)\n",
    "    return dic_silabas"
   ]
  },
  {
   "cell_type": "markdown",
   "metadata": {},
   "source": [
    "#### Obtenemos una lista de palabras en español"
   ]
  },
  {
   "cell_type": "code",
   "execution_count": 13,
   "metadata": {},
   "outputs": [],
   "source": [
    "with open('palabras_espanol.txt') as f:\n",
    "    es_words = f.read().splitlines()"
   ]
  },
  {
   "cell_type": "code",
   "execution_count": 5,
   "metadata": {},
   "outputs": [],
   "source": [
    "dic_silabas = agrupar_palabras_por_primera_silaba(es_words)"
   ]
  },
  {
   "cell_type": "markdown",
   "metadata": {},
   "source": [
    "#### Jugamos!"
   ]
  },
  {
   "cell_type": "code",
   "execution_count": 30,
   "metadata": {},
   "outputs": [
    {
     "name": "stdout",
     "output_type": "stream",
     "text": [
      "Jugador n°1, calípedes\n",
      "Jugador n°2, desamparamiento\n",
      "Jugador n°1, torrentera\n",
      "Jugador n°2, rajón\n",
      "Jugador n°1, jonjabar\n",
      "Jugador n°2, bargueño\n",
      "Jugador n°1, ñora\n",
      "Jugador n°2, ramaje\n",
      "Jugador n°1, jeringón\n",
      "Jugador n°2, gongorismo\n",
      "Jugador n°1, monista\n",
      "Jugador n°2, tasación\n",
      "Jugador n°1 perdió: No tiene palabras para tasación\n"
     ]
    }
   ],
   "source": [
    "#np.random.seed(17)\n",
    "try:\n",
    "    jugador = False\n",
    "    palabra = 'lorca'\n",
    "    for i in range(50):\n",
    "        f, l = separar_en_silabas(dic, palabra)\n",
    "        options = np.array(dic_silabas[l])\n",
    "        respuesta = np.random.choice(options)\n",
    "        palabra = respuesta\n",
    "        print(f\"Jugador n°{int(jugador)+1}, {palabra}\")\n",
    "        jugador = not jugador    \n",
    "except Monosilaba:\n",
    "    print(f\"Perdiste! :( {palabra} es monosilaba\")\n",
    "except KeyError:\n",
    "    print(f\"Jugador n°{int(jugador)+1} perdió: No tiene palabras para {palabra}\")"
   ]
  },
  {
   "cell_type": "code",
   "execution_count": 24,
   "metadata": {},
   "outputs": [],
   "source": []
  },
  {
   "cell_type": "markdown",
   "metadata": {},
   "source": [
    "#### TODO: \n",
    "- Llevar un registro del puntaje\n",
    "- Llevar un registro de palabras usadas\n",
    "- Agregar un diccionario\n",
    "- Implementar \"desconfio\"\n",
    "- Implementar speech2text\n",
    "- Conseguir un corpus más amplio de palabras en español"
   ]
  }
 ],
 "metadata": {
  "kernelspec": {
   "display_name": "Python 3",
   "language": "python",
   "name": "python3"
  },
  "language_info": {
   "codemirror_mode": {
    "name": "ipython",
    "version": 3
   },
   "file_extension": ".py",
   "mimetype": "text/x-python",
   "name": "python",
   "nbconvert_exporter": "python",
   "pygments_lexer": "ipython3",
   "version": "3.7.3"
  }
 },
 "nbformat": 4,
 "nbformat_minor": 4
}
