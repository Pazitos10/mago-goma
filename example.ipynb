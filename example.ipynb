{
 "cells": [
  {
   "cell_type": "code",
   "execution_count": 1,
   "metadata": {},
   "outputs": [],
   "source": [
    "from Game import Game, ERROR_INVALID_RULE, ERROR_WORD_USED, ERROR_UNSYLLABLE, OK, BULLSHIT\n",
    "import numpy as np\n",
    "np.random.seed(17)"
   ]
  },
  {
   "cell_type": "code",
   "execution_count": 2,
   "metadata": {},
   "outputs": [],
   "source": [
    "GAMER = {0: \"\", 1: \"CPU\", 2: \"USER\"}\n",
    "ERROR_COD = {ERROR_INVALID_RULE: \"Regla Invalida\", \n",
    "             ERROR_WORD_USED: \"Palabra Usada\", \n",
    "             ERROR_UNSYLLABLE: \"Monosilaba\",\n",
    "             OK: \"OK\",\n",
    "             BULLSHIT: \"Desconfio\"}"
   ]
  },
  {
   "cell_type": "markdown",
   "metadata": {},
   "source": [
    "# CPU VS USER --> USER Start"
   ]
  },
  {
   "cell_type": "code",
   "execution_count": 3,
   "metadata": {},
   "outputs": [
    {
     "name": "stdout",
     "output_type": "stream",
     "text": [
      "User: \n"
     ]
    },
    {
     "name": "stdin",
     "output_type": "stream",
     "text": [
      " casa\n"
     ]
    },
    {
     "name": "stdout",
     "output_type": "stream",
     "text": [
      "WORD: sachadura, STATE: OK\n",
      "User: \n"
     ]
    },
    {
     "name": "stdin",
     "output_type": "stream",
     "text": [
      " rata\n"
     ]
    },
    {
     "name": "stdout",
     "output_type": "stream",
     "text": [
      "WORD: tallarola, STATE: OK\n",
      "User: \n"
     ]
    },
    {
     "name": "stdin",
     "output_type": "stream",
     "text": [
      " --des--\n"
     ]
    },
    {
     "name": "stdout",
     "output_type": "stream",
     "text": [
      "WORD: lagartado, STATE: OK\n",
      "GANO --> GAMER: CPU, WORD: lagartado, STATUS OK\n",
      "Puntaje 2\n"
     ]
    }
   ],
   "source": [
    "np.random.seed(17)\n",
    "g = Game(\"test_palabras_espanol.txt\")\n",
    "for i in range(10):\n",
    "    print(f\"User: \")\n",
    "    user_word = input()\n",
    "    if user_word == \"--des--\":\n",
    "        g.bullshit()\n",
    "        \n",
    "    gamer, word, error = g.run(user_word)\n",
    "    print(\"WORD: {}, STATE: {}\".format(word, ERROR_COD[error]))\n",
    "    \n",
    "    if gamer != 0:\n",
    "        print(\"GANO --> GAMER: {}, WORD: {}, STATUS {}\".format(GAMER[gamer], word, ERROR_COD[error]))\n",
    "        print(\"Puntaje {}\".format(g.score))\n",
    "        break\n",
    "        \n",
    "    if error != 0:\n",
    "        print(\"PERDIOOO --> GAMER: {}, WORD: {}, CODE_ERROR {}\".format(GAMER[gamer], word, ERROR_COD[error]))\n",
    "        print(\"Puntaje {}\".format(g.score))\n",
    "        break"
   ]
  },
  {
   "cell_type": "markdown",
   "metadata": {},
   "source": [
    "# CPU VS USER --> CPU Start"
   ]
  },
  {
   "cell_type": "code",
   "execution_count": 4,
   "metadata": {},
   "outputs": [
    {
     "name": "stdout",
     "output_type": "stream",
     "text": [
      "WORD: salvaguardia, STATE: OK\n",
      "User: \n"
     ]
    },
    {
     "name": "stdin",
     "output_type": "stream",
     "text": [
      " --des--\n"
     ]
    },
    {
     "name": "stdout",
     "output_type": "stream",
     "text": [
      "WORD: diablado, STATE: OK\n",
      "GANO --> GAMER: CPU, WORD: diablado, STATUS OK\n",
      "Puntaje 0\n"
     ]
    }
   ],
   "source": [
    "np.random.seed(17)\n",
    "g = Game(\"test_palabras_espanol.txt\")\n",
    "gamer, word, error = g.run()\n",
    "print(\"WORD: {}, STATE: {}\".format(word, ERROR_COD[error]))\n",
    "for i in range(10):\n",
    "    print(f\"User: \")\n",
    "    user_word = input()\n",
    "    if user_word == \"--des--\":\n",
    "        g.bullshit()\n",
    "        \n",
    "    gamer, word, error = g.run(user_word)\n",
    "    print(\"WORD: {}, STATE: {}\".format(word, ERROR_COD[error]))\n",
    "    \n",
    "    if gamer != 0:\n",
    "        print(\"GANO --> GAMER: {}, WORD: {}, STATUS {}\".format(GAMER[gamer], word, ERROR_COD[error]))\n",
    "        print(\"Puntaje {}\".format(g.score))\n",
    "        break\n",
    "        \n",
    "    if error != 0:\n",
    "        print(\"PERDIOOO --> GAMER: {}, WORD: {}, CODE_ERROR {}\".format(GAMER[gamer], word, ERROR_COD[error]))\n",
    "        print(\"Puntaje {}\".format(g.score))\n",
    "        break"
   ]
  }
 ],
 "metadata": {
  "kernelspec": {
   "display_name": "sci3.7",
   "language": "python",
   "name": "sci3.7"
  },
  "language_info": {
   "codemirror_mode": {
    "name": "ipython",
    "version": 3
   },
   "file_extension": ".py",
   "mimetype": "text/x-python",
   "name": "python",
   "nbconvert_exporter": "python",
   "pygments_lexer": "ipython3",
   "version": "3.7.2"
  }
 },
 "nbformat": 4,
 "nbformat_minor": 4
}
